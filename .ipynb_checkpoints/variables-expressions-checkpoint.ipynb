{
 "cells": [
  {
   "cell_type": "markdown",
   "id": "b9178b37",
   "metadata": {},
   "source": [
    "### Basic paradigm\n",
    "\n",
    "1. Take input from user\n",
    "2. Do some useful processing\n",
    "3. Give some output"
   ]
  },
  {
   "cell_type": "markdown",
   "id": "02dd74b5",
   "metadata": {},
   "source": [
    "### Giving some output using the print function"
   ]
  },
  {
   "cell_type": "code",
   "execution_count": 1,
   "id": "40c8944c",
   "metadata": {},
   "outputs": [
    {
     "name": "stdout",
     "output_type": "stream",
     "text": [
      "This is something I want to be printed\n",
      "10\n",
      "10.5\n"
     ]
    }
   ],
   "source": [
    "print(\"This is something I want to be printed\")\n",
    "\n",
    "print(10)\n",
    "\n",
    "print(10.5)"
   ]
  },
  {
   "cell_type": "markdown",
   "id": "277b5bb4",
   "metadata": {},
   "source": [
    "### Comments\n",
    "\n",
    "- Use `#` to comment a line\n",
    "- These lines do not execute"
   ]
  },
  {
   "cell_type": "markdown",
   "id": "e751a44c",
   "metadata": {},
   "source": [
    "### Variables"
   ]
  },
  {
   "cell_type": "code",
   "execution_count": 2,
   "id": "d227543d",
   "metadata": {},
   "outputs": [],
   "source": [
    "# Assign the value 10 to the variable whose name is x\n",
    "# 10 is an integer number\n",
    "x = 10\n",
    "\n",
    "# Assign the value 10.5 to the variable whose name is y\n",
    "# 10.5 is float number\n",
    "y = 10.5\n",
    "\n",
    "# Assign the value \"Rahul\" to the variable whose name is x\n",
    "name = \"Rahul\""
   ]
  },
  {
   "cell_type": "code",
   "execution_count": 3,
   "id": "1cb6de5d",
   "metadata": {},
   "outputs": [
    {
     "name": "stdout",
     "output_type": "stream",
     "text": [
      "10\n"
     ]
    }
   ],
   "source": [
    "print(x)"
   ]
  },
  {
   "cell_type": "code",
   "execution_count": 4,
   "id": "16ed3c8b",
   "metadata": {},
   "outputs": [
    {
     "name": "stdout",
     "output_type": "stream",
     "text": [
      "10\n"
     ]
    }
   ],
   "source": [
    "print(10)"
   ]
  },
  {
   "cell_type": "markdown",
   "id": "039991d8",
   "metadata": {},
   "source": [
    "### What not to name your variables\n",
    "\n",
    "- Python keywords"
   ]
  },
  {
   "cell_type": "markdown",
   "id": "4cd0e303",
   "metadata": {},
   "source": [
    "```python\n",
    "\n",
    "Here is a list of the Python keywords.  Enter any keyword to get more help.\n",
    "\n",
    "False               class               from                or\n",
    "None                continue            global              pass\n",
    "True                def                 if                  raise\n",
    "and                 del                 import              return\n",
    "as                  elif                in                  try\n",
    "assert              else                is                  while\n",
    "async               except              lambda              with\n",
    "await               finally             nonlocal            yield\n",
    "break               for                 not                 \n",
    "\n",
    "help> \n",
    "```"
   ]
  },
  {
   "cell_type": "markdown",
   "id": "9da43d61",
   "metadata": {},
   "source": [
    "The following variables names will not work"
   ]
  },
  {
   "cell_type": "code",
   "execution_count": 1,
   "id": "c491a03b",
   "metadata": {},
   "outputs": [
    {
     "ename": "SyntaxError",
     "evalue": "cannot assign to False (1429262388.py, line 1)",
     "output_type": "error",
     "traceback": [
      "\u001b[0;36m  Input \u001b[0;32mIn [1]\u001b[0;36m\u001b[0m\n\u001b[0;31m    False = 1\u001b[0m\n\u001b[0m    ^\u001b[0m\n\u001b[0;31mSyntaxError\u001b[0m\u001b[0;31m:\u001b[0m cannot assign to False\n"
     ]
    }
   ],
   "source": [
    "False = 1"
   ]
  },
  {
   "cell_type": "code",
   "execution_count": 2,
   "id": "721236fe",
   "metadata": {},
   "outputs": [
    {
     "ename": "SyntaxError",
     "evalue": "invalid syntax (997967751.py, line 1)",
     "output_type": "error",
     "traceback": [
      "\u001b[0;36m  Input \u001b[0;32mIn [2]\u001b[0;36m\u001b[0m\n\u001b[0;31m    for = \"alpha\"\u001b[0m\n\u001b[0m        ^\u001b[0m\n\u001b[0;31mSyntaxError\u001b[0m\u001b[0;31m:\u001b[0m invalid syntax\n"
     ]
    }
   ],
   "source": [
    "for = \"alpha\""
   ]
  },
  {
   "cell_type": "code",
   "execution_count": 3,
   "id": "34669461",
   "metadata": {},
   "outputs": [
    {
     "ename": "SyntaxError",
     "evalue": "invalid syntax (282590606.py, line 1)",
     "output_type": "error",
     "traceback": [
      "\u001b[0;36m  Input \u001b[0;32mIn [3]\u001b[0;36m\u001b[0m\n\u001b[0;31m    if = 10.5\u001b[0m\n\u001b[0m       ^\u001b[0m\n\u001b[0;31mSyntaxError\u001b[0m\u001b[0;31m:\u001b[0m invalid syntax\n"
     ]
    }
   ],
   "source": [
    "if = 10.5"
   ]
  },
  {
   "cell_type": "code",
   "execution_count": 4,
   "id": "41893256",
   "metadata": {},
   "outputs": [
    {
     "ename": "SyntaxError",
     "evalue": "cannot assign to literal (690182220.py, line 1)",
     "output_type": "error",
     "traceback": [
      "\u001b[0;36m  Input \u001b[0;32mIn [4]\u001b[0;36m\u001b[0m\n\u001b[0;31m    1 = 2\u001b[0m\n\u001b[0m    ^\u001b[0m\n\u001b[0;31mSyntaxError\u001b[0m\u001b[0;31m:\u001b[0m cannot assign to literal\n"
     ]
    }
   ],
   "source": [
    "1 = 2"
   ]
  },
  {
   "cell_type": "code",
   "execution_count": 6,
   "id": "9b802bbf",
   "metadata": {},
   "outputs": [
    {
     "ename": "SyntaxError",
     "evalue": "invalid syntax (2079796758.py, line 1)",
     "output_type": "error",
     "traceback": [
      "\u001b[0;36m  Input \u001b[0;32mIn [6]\u001b[0;36m\u001b[0m\n\u001b[0;31m    1x = 2\u001b[0m\n\u001b[0m     ^\u001b[0m\n\u001b[0;31mSyntaxError\u001b[0m\u001b[0;31m:\u001b[0m invalid syntax\n"
     ]
    }
   ],
   "source": [
    "1x = 2"
   ]
  },
  {
   "cell_type": "markdown",
   "id": "78d0c081",
   "metadata": {},
   "source": [
    "### The following will work"
   ]
  },
  {
   "cell_type": "code",
   "execution_count": 7,
   "id": "55341cac",
   "metadata": {},
   "outputs": [],
   "source": [
    "x1 = 2"
   ]
  },
  {
   "cell_type": "code",
   "execution_count": 8,
   "id": "b632dc56",
   "metadata": {},
   "outputs": [],
   "source": [
    "x_1 = 2"
   ]
  },
  {
   "cell_type": "code",
   "execution_count": 9,
   "id": "ccb33ca2",
   "metadata": {},
   "outputs": [
    {
     "name": "stdout",
     "output_type": "stream",
     "text": [
      "2\n"
     ]
    }
   ],
   "source": [
    "print(x1)"
   ]
  },
  {
   "cell_type": "code",
   "execution_count": 10,
   "id": "fb0b850b",
   "metadata": {},
   "outputs": [
    {
     "name": "stdout",
     "output_type": "stream",
     "text": [
      "2\n"
     ]
    }
   ],
   "source": [
    "print(x_1)"
   ]
  },
  {
   "cell_type": "markdown",
   "id": "693e0f35",
   "metadata": {},
   "source": [
    "### Case is important -- upper and lowercase are different variables"
   ]
  },
  {
   "cell_type": "code",
   "execution_count": 11,
   "id": "52685a4d",
   "metadata": {},
   "outputs": [],
   "source": [
    "X = 4\n",
    "x = 3"
   ]
  },
  {
   "cell_type": "markdown",
   "id": "e4c042ba",
   "metadata": {},
   "source": [
    "### Use \"good\" names for variables"
   ]
  },
  {
   "cell_type": "code",
   "execution_count": 12,
   "id": "a11892e3",
   "metadata": {},
   "outputs": [
    {
     "name": "stdout",
     "output_type": "stream",
     "text": [
      "11\n"
     ]
    }
   ],
   "source": [
    "# Important to use useful variable names\n",
    "first_number = 1\n",
    "second_number = 10\n",
    "\n",
    "print(first_number + second_number)"
   ]
  },
  {
   "cell_type": "markdown",
   "id": "0ef3201b",
   "metadata": {},
   "source": [
    "### Types"
   ]
  },
  {
   "cell_type": "code",
   "execution_count": 13,
   "id": "eba622b6",
   "metadata": {},
   "outputs": [],
   "source": [
    "\n",
    "# Integers\n",
    "x = 10\n",
    "y = -10\n",
    "\n",
    "# Booleans\n",
    "a = True\n",
    "b = False\n",
    "\n",
    "# Float\n",
    "x = 10.5\n",
    "y = -10.34634767\n",
    "\n",
    "\n",
    "# Strings\n",
    "\n",
    "name = \"alpha\"\n",
    "second = \"beta\""
   ]
  },
  {
   "cell_type": "markdown",
   "id": "7f0a2aa6",
   "metadata": {},
   "source": [
    "### Functions"
   ]
  },
  {
   "cell_type": "code",
   "execution_count": null,
   "id": "f9ca8adf",
   "metadata": {},
   "outputs": [],
   "source": [
    "# f is the name of the function\n",
    "# x is the input\n",
    "# output is the sine of x\n",
    "# f(x) = sin(x)"
   ]
  },
  {
   "cell_type": "code",
   "execution_count": 15,
   "id": "3de3de18",
   "metadata": {},
   "outputs": [
    {
     "name": "stdout",
     "output_type": "stream",
     "text": [
      "<class 'int'>\n"
     ]
    }
   ],
   "source": [
    "### type function\n",
    "\n",
    "# type is the name of the function\n",
    "# 10 is the input\n",
    "# output is the data type of 10\n",
    "print(type(10))"
   ]
  },
  {
   "cell_type": "code",
   "execution_count": 20,
   "id": "6dd18516",
   "metadata": {},
   "outputs": [
    {
     "name": "stdout",
     "output_type": "stream",
     "text": [
      "<class 'int'>\n",
      "<class 'float'>\n",
      "<class 'str'>\n",
      "<class 'bool'>\n",
      "<class 'bool'>\n"
     ]
    }
   ],
   "source": [
    "print(type(10))\n",
    "\n",
    "print(type(10.5))\n",
    "\n",
    "print(type(\"Hello\"))\n",
    "\n",
    "print(type(False))\n",
    "\n",
    "print(type(True))"
   ]
  },
  {
   "cell_type": "code",
   "execution_count": 18,
   "id": "e0febdd5",
   "metadata": {},
   "outputs": [
    {
     "name": "stdout",
     "output_type": "stream",
     "text": [
      "<class 'int'>\n"
     ]
    }
   ],
   "source": [
    "x = 10\n",
    "\n",
    "\n",
    "\"\"\"\n",
    "\n",
    "# First get the value of x\n",
    "\n",
    "print(type(10))\n",
    "\n",
    "# Next, find type(10)\n",
    "\n",
    "print(class int)\n",
    "\n",
    "# Finally print class int to the console\n",
    "\"\"\"\n",
    "\n",
    "print(type(x))\n"
   ]
  },
  {
   "cell_type": "markdown",
   "id": "137cb044",
   "metadata": {},
   "source": [
    "```\n",
    "Evalaute sin(cos(x)) at x = pi/2\n",
    "\n",
    "1. sin(cos(pi/2))\n",
    "2. sin(0)\n",
    "3. 0\n",
    "```"
   ]
  },
  {
   "cell_type": "code",
   "execution_count": 26,
   "id": "12e49eaa",
   "metadata": {},
   "outputs": [
    {
     "name": "stdout",
     "output_type": "stream",
     "text": [
      "<class 'int'>\n"
     ]
    }
   ],
   "source": [
    "# There is no limit to the size of an integer\n",
    "# Refer to: help> INTEGER\n",
    "\n",
    "print(type(1000000000000000000000000000000000000000000000000000000000))"
   ]
  },
  {
   "cell_type": "code",
   "execution_count": 27,
   "id": "2c7ebdd9",
   "metadata": {},
   "outputs": [],
   "source": [
    "complex_num = 3 + 0.5j"
   ]
  },
  {
   "cell_type": "code",
   "execution_count": 28,
   "id": "f886e252",
   "metadata": {},
   "outputs": [
    {
     "data": {
      "text/plain": [
       "(3+0.5j)"
      ]
     },
     "execution_count": 28,
     "metadata": {},
     "output_type": "execute_result"
    }
   ],
   "source": [
    "complex_num"
   ]
  },
  {
   "cell_type": "code",
   "execution_count": 29,
   "id": "308216ef",
   "metadata": {},
   "outputs": [
    {
     "data": {
      "text/plain": [
       "3.0"
      ]
     },
     "execution_count": 29,
     "metadata": {},
     "output_type": "execute_result"
    }
   ],
   "source": [
    "complex_num.real"
   ]
  },
  {
   "cell_type": "code",
   "execution_count": 30,
   "id": "d1075d36",
   "metadata": {},
   "outputs": [
    {
     "data": {
      "text/plain": [
       "0.5"
      ]
     },
     "execution_count": 30,
     "metadata": {},
     "output_type": "execute_result"
    }
   ],
   "source": [
    "complex_num.imag"
   ]
  },
  {
   "cell_type": "markdown",
   "id": "86282d6d",
   "metadata": {},
   "source": [
    "### Type conversion"
   ]
  },
  {
   "cell_type": "code",
   "execution_count": 31,
   "id": "4801e367",
   "metadata": {},
   "outputs": [
    {
     "name": "stdout",
     "output_type": "stream",
     "text": [
      "<class 'str'>\n"
     ]
    }
   ],
   "source": [
    "\n",
    "x = \"100\"\n",
    "print(type(x))"
   ]
  },
  {
   "cell_type": "code",
   "execution_count": 35,
   "id": "e6e4cd37",
   "metadata": {},
   "outputs": [
    {
     "name": "stdout",
     "output_type": "stream",
     "text": [
      "100\n",
      "<class 'str'>\n",
      "--------------------\n",
      "100\n",
      "<class 'int'>\n"
     ]
    }
   ],
   "source": [
    "# We have a function\n",
    "# name: int\n",
    "# input to the function: 100\n",
    "# output from function: tries to convert the input to an integer\n",
    "\n",
    "x = \"100\"\n",
    "y = int(x)\n",
    "print(x)\n",
    "print(type(x))\n",
    "\n",
    "print(\"-\"*20)\n",
    "\n",
    "print(y)\n",
    "print(type(y))"
   ]
  },
  {
   "cell_type": "code",
   "execution_count": 36,
   "id": "974fe90d",
   "metadata": {},
   "outputs": [],
   "source": [
    "### int() may fail"
   ]
  },
  {
   "cell_type": "code",
   "execution_count": 37,
   "id": "671ae671",
   "metadata": {},
   "outputs": [
    {
     "ename": "ValueError",
     "evalue": "invalid literal for int() with base 10: 'abc'",
     "output_type": "error",
     "traceback": [
      "\u001b[0;31m---------------------------------------------------------------------------\u001b[0m",
      "\u001b[0;31mValueError\u001b[0m                                Traceback (most recent call last)",
      "Input \u001b[0;32mIn [37]\u001b[0m, in \u001b[0;36m<cell line: 1>\u001b[0;34m()\u001b[0m\n\u001b[0;32m----> 1\u001b[0m \u001b[38;5;28;43mint\u001b[39;49m\u001b[43m(\u001b[49m\u001b[38;5;124;43m\"\u001b[39;49m\u001b[38;5;124;43mabc\u001b[39;49m\u001b[38;5;124;43m\"\u001b[39;49m\u001b[43m)\u001b[49m\n",
      "\u001b[0;31mValueError\u001b[0m: invalid literal for int() with base 10: 'abc'"
     ]
    }
   ],
   "source": [
    "int(\"abc\")"
   ]
  },
  {
   "cell_type": "code",
   "execution_count": 38,
   "id": "bb1ab938",
   "metadata": {},
   "outputs": [
    {
     "name": "stdout",
     "output_type": "stream",
     "text": [
      "<class 'float'>\n"
     ]
    }
   ],
   "source": [
    "z = float(\"10.56\")\n",
    "print(type(z))"
   ]
  },
  {
   "cell_type": "code",
   "execution_count": 39,
   "id": "699ed639",
   "metadata": {},
   "outputs": [
    {
     "name": "stdout",
     "output_type": "stream",
     "text": [
      "10.56\n"
     ]
    }
   ],
   "source": [
    "print(z)"
   ]
  },
  {
   "cell_type": "code",
   "execution_count": 40,
   "id": "310e6f0c",
   "metadata": {},
   "outputs": [
    {
     "name": "stdout",
     "output_type": "stream",
     "text": [
      "0\n"
     ]
    }
   ],
   "source": [
    "y = int()\n",
    "print(y)"
   ]
  },
  {
   "cell_type": "code",
   "execution_count": 44,
   "id": "c33b8f62",
   "metadata": {},
   "outputs": [
    {
     "data": {
      "text/plain": [
       "10"
      ]
     },
     "execution_count": 44,
     "metadata": {},
     "output_type": "execute_result"
    }
   ],
   "source": [
    "int(float(\"10.61\"))"
   ]
  },
  {
   "cell_type": "code",
   "execution_count": 46,
   "id": "332c1b58",
   "metadata": {},
   "outputs": [
    {
     "data": {
      "text/plain": [
       "10"
      ]
     },
     "execution_count": 46,
     "metadata": {},
     "output_type": "execute_result"
    }
   ],
   "source": [
    "int(float(\"10.61\"))"
   ]
  },
  {
   "cell_type": "code",
   "execution_count": 47,
   "id": "c21ed810",
   "metadata": {},
   "outputs": [
    {
     "data": {
      "text/plain": [
       "10"
      ]
     },
     "execution_count": 47,
     "metadata": {},
     "output_type": "execute_result"
    }
   ],
   "source": [
    "int(float(\"10.61\"))"
   ]
  },
  {
   "cell_type": "code",
   "execution_count": 49,
   "id": "060f56a4",
   "metadata": {},
   "outputs": [
    {
     "name": "stdout",
     "output_type": "stream",
     "text": [
      "<class 'str'>\n"
     ]
    }
   ],
   "source": [
    "a = 10\n",
    "b = str(a)\n",
    "print(type(b))"
   ]
  },
  {
   "cell_type": "markdown",
   "id": "84d9f877",
   "metadata": {},
   "source": [
    "### Finding number of digits in a number"
   ]
  },
  {
   "cell_type": "code",
   "execution_count": 54,
   "id": "a2fc89d4",
   "metadata": {},
   "outputs": [],
   "source": [
    "x = 12373626527645726457264527634\n",
    "y = str(x)"
   ]
  },
  {
   "cell_type": "code",
   "execution_count": 55,
   "id": "eba8a73c",
   "metadata": {},
   "outputs": [
    {
     "name": "stdout",
     "output_type": "stream",
     "text": [
      "12373626527645726457264527634\n"
     ]
    }
   ],
   "source": [
    "print(y)"
   ]
  },
  {
   "cell_type": "code",
   "execution_count": 56,
   "id": "5f72606c",
   "metadata": {},
   "outputs": [
    {
     "name": "stdout",
     "output_type": "stream",
     "text": [
      "5\n"
     ]
    }
   ],
   "source": [
    "e = \"Hello\"\n",
    "print(len(e))"
   ]
  },
  {
   "cell_type": "code",
   "execution_count": 57,
   "id": "c009ff02",
   "metadata": {},
   "outputs": [
    {
     "name": "stdout",
     "output_type": "stream",
     "text": [
      "29\n"
     ]
    }
   ],
   "source": [
    "print(len(y))"
   ]
  },
  {
   "cell_type": "code",
   "execution_count": 58,
   "id": "03828d18",
   "metadata": {},
   "outputs": [
    {
     "ename": "TypeError",
     "evalue": "object of type 'int' has no len()",
     "output_type": "error",
     "traceback": [
      "\u001b[0;31m---------------------------------------------------------------------------\u001b[0m",
      "\u001b[0;31mTypeError\u001b[0m                                 Traceback (most recent call last)",
      "Input \u001b[0;32mIn [58]\u001b[0m, in \u001b[0;36m<cell line: 1>\u001b[0;34m()\u001b[0m\n\u001b[0;32m----> 1\u001b[0m \u001b[38;5;28;43mlen\u001b[39;49m\u001b[43m(\u001b[49m\u001b[38;5;241;43m10\u001b[39;49m\u001b[43m)\u001b[49m\n",
      "\u001b[0;31mTypeError\u001b[0m: object of type 'int' has no len()"
     ]
    }
   ],
   "source": [
    "len(10)"
   ]
  },
  {
   "cell_type": "code",
   "execution_count": 59,
   "id": "ed599dfb",
   "metadata": {},
   "outputs": [],
   "source": [
    "val = 10.56"
   ]
  },
  {
   "cell_type": "code",
   "execution_count": 60,
   "id": "cb18fbe7",
   "metadata": {},
   "outputs": [],
   "source": [
    "str_val = str(val)"
   ]
  },
  {
   "cell_type": "code",
   "execution_count": 61,
   "id": "e0312e7a",
   "metadata": {},
   "outputs": [
    {
     "name": "stdout",
     "output_type": "stream",
     "text": [
      "10.56\n"
     ]
    }
   ],
   "source": [
    "print(str_val)"
   ]
  },
  {
   "cell_type": "code",
   "execution_count": 62,
   "id": "521e7305",
   "metadata": {},
   "outputs": [
    {
     "name": "stdout",
     "output_type": "stream",
     "text": [
      "5\n"
     ]
    }
   ],
   "source": [
    "print(len(str_val))"
   ]
  },
  {
   "cell_type": "code",
   "execution_count": 64,
   "id": "c2140ee3",
   "metadata": {},
   "outputs": [
    {
     "ename": "AttributeError",
     "evalue": "'str' object has no attribute 'len'",
     "output_type": "error",
     "traceback": [
      "\u001b[0;31m---------------------------------------------------------------------------\u001b[0m",
      "\u001b[0;31mAttributeError\u001b[0m                            Traceback (most recent call last)",
      "Input \u001b[0;32mIn [64]\u001b[0m, in \u001b[0;36m<cell line: 1>\u001b[0;34m()\u001b[0m\n\u001b[0;32m----> 1\u001b[0m \u001b[43mstr_val\u001b[49m\u001b[38;5;241;43m.\u001b[39;49m\u001b[43mlen\u001b[49m()\n",
      "\u001b[0;31mAttributeError\u001b[0m: 'str' object has no attribute 'len'"
     ]
    }
   ],
   "source": [
    "len(str_val)"
   ]
  },
  {
   "cell_type": "markdown",
   "id": "831b8aac",
   "metadata": {},
   "source": [
    "### Mathematical Operations"
   ]
  },
  {
   "cell_type": "code",
   "execution_count": 65,
   "id": "0fea8061",
   "metadata": {},
   "outputs": [
    {
     "name": "stdout",
     "output_type": "stream",
     "text": [
      "5\n"
     ]
    }
   ],
   "source": [
    "x = 10\n",
    "y = 5\n",
    "\n",
    "z = x - y\n",
    "print(z)"
   ]
  },
  {
   "cell_type": "code",
   "execution_count": 66,
   "id": "f810ea81",
   "metadata": {},
   "outputs": [
    {
     "name": "stdout",
     "output_type": "stream",
     "text": [
      "32\n"
     ]
    }
   ],
   "source": [
    "x = 2\n",
    "y = 5\n",
    "\n",
    "z = x ** y # x raised to the power y\n",
    "print(z)"
   ]
  },
  {
   "cell_type": "code",
   "execution_count": 67,
   "id": "5ba5fd6d",
   "metadata": {},
   "outputs": [
    {
     "name": "stdout",
     "output_type": "stream",
     "text": [
      "0.4\n"
     ]
    }
   ],
   "source": [
    "x = 2\n",
    "y = 5\n",
    "\n",
    "z = x / y # x divided y\n",
    "print(z)"
   ]
  },
  {
   "cell_type": "code",
   "execution_count": 70,
   "id": "4c2d139a",
   "metadata": {},
   "outputs": [
    {
     "name": "stdout",
     "output_type": "stream",
     "text": [
      "0\n",
      "2\n"
     ]
    }
   ],
   "source": [
    "x = 2\n",
    "y = 5\n",
    "\n",
    "z = x // y # x divided y (floor)\n",
    "remainder = x%y\n",
    "print(z)\n",
    "print(remainder)"
   ]
  },
  {
   "cell_type": "code",
   "execution_count": 71,
   "id": "87949cdf",
   "metadata": {},
   "outputs": [],
   "source": [
    "### 2 = 5 * 0 + 2"
   ]
  },
  {
   "cell_type": "markdown",
   "id": "8e2c0cef",
   "metadata": {},
   "source": [
    "### Modulus operator"
   ]
  },
  {
   "cell_type": "code",
   "execution_count": 74,
   "id": "a99ea19d",
   "metadata": {},
   "outputs": [
    {
     "name": "stdout",
     "output_type": "stream",
     "text": [
      "1\n",
      "0\n",
      "1\n"
     ]
    }
   ],
   "source": [
    "print(1 % 2)\n",
    "\n",
    "# 1 = 2 * 0 (integer) + 1 (remainder)\n",
    "\n",
    "print(2 % 2)\n",
    "# 2 = 2 * 1 (integer) + 0 (remainder)\n",
    "\n",
    "print(3 % 2)\n",
    "# 3 = 2 * 1 (integer) + 1 (remainder)\n",
    "\n",
    "\n",
    "print(x % y)\n",
    "# x = y * b + remainder"
   ]
  },
  {
   "cell_type": "markdown",
   "id": "24130f9d",
   "metadata": {},
   "source": [
    "### Operator Precedence\n",
    "\n",
    "Can figure by invoking `help` and then writing OPERATORS\n",
    "\n",
    "```python\n",
    "help>OPERATORS\n",
    "\n",
    "Operator precedence\n",
    "*******************\n",
    "\n",
    "The following table summarizes the operator precedence in Python, from\n",
    "lowest precedence (least binding) to highest precedence (most\n",
    "binding).  Operators in the same box have the same precedence.  Unless\n",
    "the syntax is explicitly given, operators are binary.  Operators in\n",
    "the same box group left to right (except for exponentiation, which\n",
    "groups from right to left).\n",
    "\n",
    "...\n",
    "```"
   ]
  },
  {
   "cell_type": "code",
   "execution_count": 75,
   "id": "9ced9bdc",
   "metadata": {},
   "outputs": [],
   "source": [
    "\n",
    "x = 1+2**3/4*5\n",
    "\n",
    "# Operators we have are:\n",
    "# +\n",
    "# **\n",
    "# /\n",
    "# *\n",
    "\n",
    "# In decreasing precedence we have\n",
    "# **\n",
    "# / *\n",
    "# +\n",
    "\n",
    "x = 1+(2**3)/4*5\n",
    "x = 1+8/4*5\n",
    "\n",
    "# Option 1\n",
    "# x = 1+(8/4)*5\n",
    "\n",
    "# option 2\n",
    "# x = 1+8/(4*5)\n",
    "\n",
    "# since we have left to right precedence\n",
    "\n",
    "x = 1+(8/4)*5\n",
    "x = 1+2*5\n",
    "\n",
    "x = 1+(2*5)\n",
    "x = 1 + 10\n",
    "x = 11"
   ]
  },
  {
   "cell_type": "code",
   "execution_count": 76,
   "id": "a255f1e2",
   "metadata": {},
   "outputs": [
    {
     "name": "stdout",
     "output_type": "stream",
     "text": [
      "11.0\n"
     ]
    }
   ],
   "source": [
    "x = 1+2**3/4*5\n",
    "print(x)\n"
   ]
  },
  {
   "cell_type": "code",
   "execution_count": 77,
   "id": "7750f2a8",
   "metadata": {},
   "outputs": [],
   "source": [
    "# Ideal way\n",
    "\n",
    "x = 1 + ((2**3)/4)*5"
   ]
  },
  {
   "cell_type": "code",
   "execution_count": 78,
   "id": "2b2fbc67",
   "metadata": {},
   "outputs": [
    {
     "name": "stdout",
     "output_type": "stream",
     "text": [
      "5.5\n"
     ]
    }
   ],
   "source": [
    "x = 11/2\n",
    "print(x)"
   ]
  },
  {
   "cell_type": "code",
   "execution_count": 79,
   "id": "3529e7d9",
   "metadata": {},
   "outputs": [
    {
     "name": "stdout",
     "output_type": "stream",
     "text": [
      "5\n"
     ]
    }
   ],
   "source": [
    "x = 11//2\n",
    "\n",
    "print(x)"
   ]
  }
 ],
 "metadata": {
  "kernelspec": {
   "display_name": "Python 3 (ipykernel)",
   "language": "python",
   "name": "python3"
  },
  "language_info": {
   "codemirror_mode": {
    "name": "ipython",
    "version": 3
   },
   "file_extension": ".py",
   "mimetype": "text/x-python",
   "name": "python",
   "nbconvert_exporter": "python",
   "pygments_lexer": "ipython3",
   "version": "3.8.13"
  }
 },
 "nbformat": 4,
 "nbformat_minor": 5
}
