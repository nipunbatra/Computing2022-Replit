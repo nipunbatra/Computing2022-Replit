{
 "cells": [
  {
   "cell_type": "code",
   "execution_count": 1,
   "metadata": {},
   "outputs": [],
   "source": [
    "import pandas as pd\n",
    "import numpy as np\n",
    "import matplotlib.pyplot as plt\n",
    "%matplotlib inline\n",
    "%config InlineBackend.figure_format='retina'"
   ]
  },
  {
   "cell_type": "code",
   "execution_count": 2,
   "metadata": {},
   "outputs": [],
   "source": [
    "df = pd.read_excel(\"reg.xlsx\")"
   ]
  },
  {
   "cell_type": "code",
   "execution_count": 3,
   "metadata": {},
   "outputs": [
    {
     "data": {
      "text/html": [
       "<div>\n",
       "<style scoped>\n",
       "    .dataframe tbody tr th:only-of-type {\n",
       "        vertical-align: middle;\n",
       "    }\n",
       "\n",
       "    .dataframe tbody tr th {\n",
       "        vertical-align: top;\n",
       "    }\n",
       "\n",
       "    .dataframe thead th {\n",
       "        text-align: right;\n",
       "    }\n",
       "</style>\n",
       "<table border=\"1\" class=\"dataframe\">\n",
       "  <thead>\n",
       "    <tr style=\"text-align: right;\">\n",
       "      <th></th>\n",
       "      <th>RollNo</th>\n",
       "      <th>Name</th>\n",
       "      <th>ProgramName</th>\n",
       "      <th>Discipline</th>\n",
       "    </tr>\n",
       "  </thead>\n",
       "  <tbody>\n",
       "    <tr>\n",
       "      <th>0</th>\n",
       "      <td>22110001</td>\n",
       "      <td>Aaditya Roy</td>\n",
       "      <td>B.Tech(JEE)</td>\n",
       "      <td>Materials Science &amp; Engineering</td>\n",
       "    </tr>\n",
       "    <tr>\n",
       "      <th>1</th>\n",
       "      <td>22110002</td>\n",
       "      <td>Aadya Arora</td>\n",
       "      <td>B.Tech-M.Tech(JEE)</td>\n",
       "      <td>Electrical Engineering</td>\n",
       "    </tr>\n",
       "    <tr>\n",
       "      <th>2</th>\n",
       "      <td>22110003</td>\n",
       "      <td>Aakash Kushwah</td>\n",
       "      <td>B.Tech(JEE)</td>\n",
       "      <td>Civil Engineering</td>\n",
       "    </tr>\n",
       "    <tr>\n",
       "      <th>3</th>\n",
       "      <td>22110004</td>\n",
       "      <td>Aarav Shah</td>\n",
       "      <td>B.Tech(JEE)</td>\n",
       "      <td>Mechanical Engineering</td>\n",
       "    </tr>\n",
       "    <tr>\n",
       "      <th>4</th>\n",
       "      <td>22110005</td>\n",
       "      <td>Aashmun Gupta</td>\n",
       "      <td>B.Tech-M.Tech(JEE)</td>\n",
       "      <td>Comp Science &amp; Engg</td>\n",
       "    </tr>\n",
       "    <tr>\n",
       "      <th>...</th>\n",
       "      <td>...</td>\n",
       "      <td>...</td>\n",
       "      <td>...</td>\n",
       "      <td>...</td>\n",
       "    </tr>\n",
       "    <tr>\n",
       "      <th>282</th>\n",
       "      <td>22110295</td>\n",
       "      <td>Yash  Bachwana</td>\n",
       "      <td>B.Tech(JEE)</td>\n",
       "      <td>Electrical Engineering</td>\n",
       "    </tr>\n",
       "    <tr>\n",
       "      <th>283</th>\n",
       "      <td>22110296</td>\n",
       "      <td>Yash Shailesh Patkar</td>\n",
       "      <td>B.Tech(JEE)</td>\n",
       "      <td>Comp Science &amp; Engg</td>\n",
       "    </tr>\n",
       "    <tr>\n",
       "      <th>284</th>\n",
       "      <td>22110297</td>\n",
       "      <td>Zala Darshan Dinesh</td>\n",
       "      <td>B.Tech-M.Tech(JEE)</td>\n",
       "      <td>Electrical Engineering</td>\n",
       "    </tr>\n",
       "    <tr>\n",
       "      <th>285</th>\n",
       "      <td>22110298</td>\n",
       "      <td>Zunjare Tejas Gajanan</td>\n",
       "      <td>B.Tech(JEE)</td>\n",
       "      <td>Electrical Engineering</td>\n",
       "    </tr>\n",
       "    <tr>\n",
       "      <th>286</th>\n",
       "      <td>22110299</td>\n",
       "      <td>Harshita Singh</td>\n",
       "      <td>B.Tech(Olympiad)</td>\n",
       "      <td>Comp Science &amp; Engg</td>\n",
       "    </tr>\n",
       "  </tbody>\n",
       "</table>\n",
       "<p>287 rows × 4 columns</p>\n",
       "</div>"
      ],
      "text/plain": [
       "       RollNo                   Name         ProgramName  \\\n",
       "0    22110001           Aaditya Roy          B.Tech(JEE)   \n",
       "1    22110002           Aadya Arora   B.Tech-M.Tech(JEE)   \n",
       "2    22110003        Aakash Kushwah          B.Tech(JEE)   \n",
       "3    22110004             Aarav Shah         B.Tech(JEE)   \n",
       "4    22110005          Aashmun Gupta  B.Tech-M.Tech(JEE)   \n",
       "..        ...                    ...                 ...   \n",
       "282  22110295         Yash  Bachwana         B.Tech(JEE)   \n",
       "283  22110296   Yash Shailesh Patkar         B.Tech(JEE)   \n",
       "284  22110297    Zala Darshan Dinesh  B.Tech-M.Tech(JEE)   \n",
       "285  22110298  Zunjare Tejas Gajanan         B.Tech(JEE)   \n",
       "286  22110299         Harshita Singh    B.Tech(Olympiad)   \n",
       "\n",
       "                          Discipline  \n",
       "0    Materials Science & Engineering  \n",
       "1             Electrical Engineering  \n",
       "2                  Civil Engineering  \n",
       "3             Mechanical Engineering  \n",
       "4                Comp Science & Engg  \n",
       "..                               ...  \n",
       "282           Electrical Engineering  \n",
       "283              Comp Science & Engg  \n",
       "284           Electrical Engineering  \n",
       "285           Electrical Engineering  \n",
       "286              Comp Science & Engg  \n",
       "\n",
       "[287 rows x 4 columns]"
      ]
     },
     "execution_count": 3,
     "metadata": {},
     "output_type": "execute_result"
    }
   ],
   "source": [
    "df"
   ]
  },
  {
   "cell_type": "code",
   "execution_count": 5,
   "metadata": {},
   "outputs": [
    {
     "data": {
      "text/html": [
       "<div>\n",
       "<style scoped>\n",
       "    .dataframe tbody tr th:only-of-type {\n",
       "        vertical-align: middle;\n",
       "    }\n",
       "\n",
       "    .dataframe tbody tr th {\n",
       "        vertical-align: top;\n",
       "    }\n",
       "\n",
       "    .dataframe thead th {\n",
       "        text-align: right;\n",
       "    }\n",
       "</style>\n",
       "<table border=\"1\" class=\"dataframe\">\n",
       "  <thead>\n",
       "    <tr style=\"text-align: right;\">\n",
       "      <th></th>\n",
       "      <th>RollNo</th>\n",
       "      <th>Name</th>\n",
       "      <th>ProgramName</th>\n",
       "      <th>Discipline</th>\n",
       "    </tr>\n",
       "  </thead>\n",
       "  <tbody>\n",
       "    <tr>\n",
       "      <th>0</th>\n",
       "      <td>22110001</td>\n",
       "      <td>Aaditya Roy</td>\n",
       "      <td>B.Tech(JEE)</td>\n",
       "      <td>Materials Science &amp; Engineering</td>\n",
       "    </tr>\n",
       "    <tr>\n",
       "      <th>1</th>\n",
       "      <td>22110002</td>\n",
       "      <td>Aadya Arora</td>\n",
       "      <td>B.Tech-M.Tech(JEE)</td>\n",
       "      <td>Electrical Engineering</td>\n",
       "    </tr>\n",
       "    <tr>\n",
       "      <th>2</th>\n",
       "      <td>22110003</td>\n",
       "      <td>Aakash Kushwah</td>\n",
       "      <td>B.Tech(JEE)</td>\n",
       "      <td>Civil Engineering</td>\n",
       "    </tr>\n",
       "    <tr>\n",
       "      <th>3</th>\n",
       "      <td>22110004</td>\n",
       "      <td>Aarav Shah</td>\n",
       "      <td>B.Tech(JEE)</td>\n",
       "      <td>Mechanical Engineering</td>\n",
       "    </tr>\n",
       "    <tr>\n",
       "      <th>4</th>\n",
       "      <td>22110005</td>\n",
       "      <td>Aashmun Gupta</td>\n",
       "      <td>B.Tech-M.Tech(JEE)</td>\n",
       "      <td>Comp Science &amp; Engg</td>\n",
       "    </tr>\n",
       "  </tbody>\n",
       "</table>\n",
       "</div>"
      ],
      "text/plain": [
       "     RollNo             Name         ProgramName  \\\n",
       "0  22110001     Aaditya Roy          B.Tech(JEE)   \n",
       "1  22110002     Aadya Arora   B.Tech-M.Tech(JEE)   \n",
       "2  22110003  Aakash Kushwah          B.Tech(JEE)   \n",
       "3  22110004       Aarav Shah         B.Tech(JEE)   \n",
       "4  22110005    Aashmun Gupta  B.Tech-M.Tech(JEE)   \n",
       "\n",
       "                        Discipline  \n",
       "0  Materials Science & Engineering  \n",
       "1           Electrical Engineering  \n",
       "2                Civil Engineering  \n",
       "3           Mechanical Engineering  \n",
       "4              Comp Science & Engg  "
      ]
     },
     "execution_count": 5,
     "metadata": {},
     "output_type": "execute_result"
    }
   ],
   "source": [
    "df.head()"
   ]
  },
  {
   "cell_type": "code",
   "execution_count": 12,
   "metadata": {},
   "outputs": [
    {
     "data": {
      "text/plain": [
       "0               Aaditya Roy \n",
       "1               Aadya Arora \n",
       "2            Aakash Kushwah \n",
       "3                 Aarav Shah\n",
       "4              Aashmun Gupta\n",
       "               ...          \n",
       "282           Yash  Bachwana\n",
       "283     Yash Shailesh Patkar\n",
       "284      Zala Darshan Dinesh\n",
       "285    Zunjare Tejas Gajanan\n",
       "286           Harshita Singh\n",
       "Name: Name, Length: 287, dtype: object"
      ]
     },
     "execution_count": 12,
     "metadata": {},
     "output_type": "execute_result"
    }
   ],
   "source": [
    "df.Name"
   ]
  },
  {
   "cell_type": "markdown",
   "metadata": {},
   "source": [
    "### Length of names"
   ]
  },
  {
   "cell_type": "code",
   "execution_count": 13,
   "metadata": {},
   "outputs": [
    {
     "data": {
      "text/plain": [
       "<AxesSubplot:ylabel='Frequency'>"
      ]
     },
     "execution_count": 13,
     "metadata": {},
     "output_type": "execute_result"
    },
    {
     "data": {
      "image/png": "[encoded data removed]",
      "text/plain": [
       "<Figure size 432x288 with 1 Axes>"
      ]
     },
     "metadata": {
      "image/png": {
       "height": 248,
       "width": 382
      },
      "needs_background": "light"
     },
     "output_type": "display_data"
    }
   ],
   "source": [
    "df.Name.str.len().plot(kind='hist')"
   ]
  },
  {
   "cell_type": "markdown",
   "metadata": {},
   "source": [
    "### Find short names"
   ]
  },
  {
   "cell_type": "code",
   "execution_count": 17,
   "metadata": {},
   "outputs": [
    {
     "data": {
      "text/html": [
       "<div>\n",
       "<style scoped>\n",
       "    .dataframe tbody tr th:only-of-type {\n",
       "        vertical-align: middle;\n",
       "    }\n",
       "\n",
       "    .dataframe tbody tr th {\n",
       "        vertical-align: top;\n",
       "    }\n",
       "\n",
       "    .dataframe thead th {\n",
       "        text-align: right;\n",
       "    }\n",
       "</style>\n",
       "<table border=\"1\" class=\"dataframe\">\n",
       "  <thead>\n",
       "    <tr style=\"text-align: right;\">\n",
       "      <th></th>\n",
       "      <th>RollNo</th>\n",
       "      <th>Name</th>\n",
       "      <th>ProgramName</th>\n",
       "      <th>Discipline</th>\n",
       "    </tr>\n",
       "  </thead>\n",
       "  <tbody>\n",
       "    <tr>\n",
       "      <th>5</th>\n",
       "      <td>22110006</td>\n",
       "      <td>Aayushi</td>\n",
       "      <td>B.Tech(JEE)</td>\n",
       "      <td>Electrical Engineering</td>\n",
       "    </tr>\n",
       "    <tr>\n",
       "      <th>91</th>\n",
       "      <td>22110095</td>\n",
       "      <td>Harshit</td>\n",
       "      <td>B.Tech-M.Tech(JEE)</td>\n",
       "      <td>Comp Science &amp; Engg</td>\n",
       "    </tr>\n",
       "    <tr>\n",
       "      <th>109</th>\n",
       "      <td>22110113</td>\n",
       "      <td>Kaushik</td>\n",
       "      <td>B.Tech(JEE)</td>\n",
       "      <td>Chemical Engineering</td>\n",
       "    </tr>\n",
       "    <tr>\n",
       "      <th>112</th>\n",
       "      <td>22110116</td>\n",
       "      <td>Keshav</td>\n",
       "      <td>B.Tech(JEE)</td>\n",
       "      <td>Materials Science &amp; Engineering</td>\n",
       "    </tr>\n",
       "    <tr>\n",
       "      <th>126</th>\n",
       "      <td>22110130</td>\n",
       "      <td>Lavanya</td>\n",
       "      <td>B.Tech(JEE)</td>\n",
       "      <td>Comp Science &amp; Engg</td>\n",
       "    </tr>\n",
       "    <tr>\n",
       "      <th>163</th>\n",
       "      <td>22110169</td>\n",
       "      <td>Nimitt</td>\n",
       "      <td>B.Tech(JEE)</td>\n",
       "      <td>Electrical Engineering</td>\n",
       "    </tr>\n",
       "    <tr>\n",
       "      <th>168</th>\n",
       "      <td>22110174</td>\n",
       "      <td>Om Gupta</td>\n",
       "      <td>B.Tech(JEE)</td>\n",
       "      <td>Chemical Engineering</td>\n",
       "    </tr>\n",
       "    <tr>\n",
       "      <th>171</th>\n",
       "      <td>22110177</td>\n",
       "      <td>Pankaj</td>\n",
       "      <td>B.Tech(JEE)</td>\n",
       "      <td>Chemical Engineering</td>\n",
       "    </tr>\n",
       "    <tr>\n",
       "      <th>214</th>\n",
       "      <td>22110223</td>\n",
       "      <td>Rituraj</td>\n",
       "      <td>B.Tech(JEE)</td>\n",
       "      <td>Chemical Engineering</td>\n",
       "    </tr>\n",
       "    <tr>\n",
       "      <th>216</th>\n",
       "      <td>22110225</td>\n",
       "      <td>Rudra  M</td>\n",
       "      <td>B.Tech(JEE)</td>\n",
       "      <td>Chemical Engineering</td>\n",
       "    </tr>\n",
       "    <tr>\n",
       "      <th>276</th>\n",
       "      <td>22110288</td>\n",
       "      <td>Vishal</td>\n",
       "      <td>B.Tech(JEE)</td>\n",
       "      <td>Materials Science &amp; Engineering</td>\n",
       "    </tr>\n",
       "  </tbody>\n",
       "</table>\n",
       "</div>"
      ],
      "text/plain": [
       "       RollNo       Name         ProgramName                       Discipline\n",
       "5    22110006  Aayushi           B.Tech(JEE)           Electrical Engineering\n",
       "91   22110095  Harshit    B.Tech-M.Tech(JEE)              Comp Science & Engg\n",
       "109  22110113  Kaushik           B.Tech(JEE)             Chemical Engineering\n",
       "112  22110116   Keshav           B.Tech(JEE)  Materials Science & Engineering\n",
       "126  22110130  Lavanya           B.Tech(JEE)              Comp Science & Engg\n",
       "163  22110169   Nimitt           B.Tech(JEE)           Electrical Engineering\n",
       "168  22110174  Om Gupta          B.Tech(JEE)             Chemical Engineering\n",
       "171  22110177   Pankaj           B.Tech(JEE)             Chemical Engineering\n",
       "214  22110223  Rituraj           B.Tech(JEE)             Chemical Engineering\n",
       "216  22110225   Rudra  M         B.Tech(JEE)             Chemical Engineering\n",
       "276  22110288   Vishal           B.Tech(JEE)  Materials Science & Engineering"
      ]
     },
     "execution_count": 17,
     "metadata": {},
     "output_type": "execute_result"
    }
   ],
   "source": [
    "df[df.Name.str.len()<10]"
   ]
  },
  {
   "cell_type": "markdown",
   "metadata": {},
   "source": [
    "Seems that mostly people with only first name have overall `short` lengths."
   ]
  },
  {
   "cell_type": "markdown",
   "metadata": {},
   "source": [
    "### Do we have any repeating names? Take 1"
   ]
  },
  {
   "cell_type": "code",
   "execution_count": 19,
   "metadata": {},
   "outputs": [
    {
     "data": {
      "text/plain": [
       "Aaditya Roy              1\n",
       "Pradeep Kumar Meena      1\n",
       "Pranshu  Kaushik         1\n",
       "Pranjal Gaur             1\n",
       "Pranav  Somase           1\n",
       "                        ..\n",
       "Hrriday Viraj Ruparel    1\n",
       "Hitesh Kumar             1\n",
       "Hiranmay Mushahary       1\n",
       "Heer Nilesh Kubadia      1\n",
       "Harshita Singh           1\n",
       "Name: Name, Length: 287, dtype: int64"
      ]
     },
     "execution_count": 19,
     "metadata": {},
     "output_type": "execute_result"
    }
   ],
   "source": [
    "pd.value_counts(df.Name)"
   ]
  },
  {
   "cell_type": "code",
   "execution_count": 20,
   "metadata": {},
   "outputs": [
    {
     "data": {
      "text/plain": [
       "1"
      ]
     },
     "execution_count": 20,
     "metadata": {},
     "output_type": "execute_result"
    }
   ],
   "source": [
    "pd.value_counts(df.Name).max()"
   ]
  },
  {
   "cell_type": "markdown",
   "metadata": {},
   "source": [
    "### Finding the first name and then repeating analysis"
   ]
  },
  {
   "cell_type": "code",
   "execution_count": 28,
   "metadata": {},
   "outputs": [
    {
     "data": {
      "text/html": [
       "<div>\n",
       "<style scoped>\n",
       "    .dataframe tbody tr th:only-of-type {\n",
       "        vertical-align: middle;\n",
       "    }\n",
       "\n",
       "    .dataframe tbody tr th {\n",
       "        vertical-align: top;\n",
       "    }\n",
       "\n",
       "    .dataframe thead th {\n",
       "        text-align: right;\n",
       "    }\n",
       "</style>\n",
       "<table border=\"1\" class=\"dataframe\">\n",
       "  <thead>\n",
       "    <tr style=\"text-align: right;\">\n",
       "      <th></th>\n",
       "      <th>0</th>\n",
       "      <th>1</th>\n",
       "      <th>2</th>\n",
       "      <th>3</th>\n",
       "    </tr>\n",
       "  </thead>\n",
       "  <tbody>\n",
       "    <tr>\n",
       "      <th>0</th>\n",
       "      <td>Aaditya</td>\n",
       "      <td>Roy</td>\n",
       "      <td></td>\n",
       "      <td>None</td>\n",
       "    </tr>\n",
       "    <tr>\n",
       "      <th>1</th>\n",
       "      <td>Aadya</td>\n",
       "      <td>Arora</td>\n",
       "      <td></td>\n",
       "      <td>None</td>\n",
       "    </tr>\n",
       "    <tr>\n",
       "      <th>2</th>\n",
       "      <td>Aakash</td>\n",
       "      <td>Kushwah</td>\n",
       "      <td></td>\n",
       "      <td>None</td>\n",
       "    </tr>\n",
       "    <tr>\n",
       "      <th>3</th>\n",
       "      <td>Aarav</td>\n",
       "      <td>Shah</td>\n",
       "      <td>None</td>\n",
       "      <td>None</td>\n",
       "    </tr>\n",
       "    <tr>\n",
       "      <th>4</th>\n",
       "      <td>Aashmun</td>\n",
       "      <td>Gupta</td>\n",
       "      <td>None</td>\n",
       "      <td>None</td>\n",
       "    </tr>\n",
       "    <tr>\n",
       "      <th>...</th>\n",
       "      <td>...</td>\n",
       "      <td>...</td>\n",
       "      <td>...</td>\n",
       "      <td>...</td>\n",
       "    </tr>\n",
       "    <tr>\n",
       "      <th>282</th>\n",
       "      <td>Yash</td>\n",
       "      <td></td>\n",
       "      <td>Bachwana</td>\n",
       "      <td>None</td>\n",
       "    </tr>\n",
       "    <tr>\n",
       "      <th>283</th>\n",
       "      <td>Yash</td>\n",
       "      <td>Shailesh</td>\n",
       "      <td>Patkar</td>\n",
       "      <td>None</td>\n",
       "    </tr>\n",
       "    <tr>\n",
       "      <th>284</th>\n",
       "      <td>Zala</td>\n",
       "      <td>Darshan</td>\n",
       "      <td>Dinesh</td>\n",
       "      <td>None</td>\n",
       "    </tr>\n",
       "    <tr>\n",
       "      <th>285</th>\n",
       "      <td>Zunjare</td>\n",
       "      <td>Tejas</td>\n",
       "      <td>Gajanan</td>\n",
       "      <td>None</td>\n",
       "    </tr>\n",
       "    <tr>\n",
       "      <th>286</th>\n",
       "      <td>Harshita</td>\n",
       "      <td>Singh</td>\n",
       "      <td>None</td>\n",
       "      <td>None</td>\n",
       "    </tr>\n",
       "  </tbody>\n",
       "</table>\n",
       "<p>287 rows × 4 columns</p>\n",
       "</div>"
      ],
      "text/plain": [
       "            0         1         2     3\n",
       "0     Aaditya       Roy            None\n",
       "1       Aadya     Arora            None\n",
       "2      Aakash   Kushwah            None\n",
       "3       Aarav      Shah      None  None\n",
       "4     Aashmun     Gupta      None  None\n",
       "..        ...       ...       ...   ...\n",
       "282      Yash            Bachwana  None\n",
       "283      Yash  Shailesh    Patkar  None\n",
       "284      Zala   Darshan    Dinesh  None\n",
       "285   Zunjare     Tejas   Gajanan  None\n",
       "286  Harshita     Singh      None  None\n",
       "\n",
       "[287 rows x 4 columns]"
      ]
     },
     "execution_count": 28,
     "metadata": {},
     "output_type": "execute_result"
    }
   ],
   "source": [
    "df.Name.str.split(\" \", expand=True)"
   ]
  },
  {
   "cell_type": "code",
   "execution_count": 33,
   "metadata": {},
   "outputs": [
    {
     "data": {
      "text/html": [
       "<div>\n",
       "<style scoped>\n",
       "    .dataframe tbody tr th:only-of-type {\n",
       "        vertical-align: middle;\n",
       "    }\n",
       "\n",
       "    .dataframe tbody tr th {\n",
       "        vertical-align: top;\n",
       "    }\n",
       "\n",
       "    .dataframe thead th {\n",
       "        text-align: right;\n",
       "    }\n",
       "</style>\n",
       "<table border=\"1\" class=\"dataframe\">\n",
       "  <thead>\n",
       "    <tr style=\"text-align: right;\">\n",
       "      <th></th>\n",
       "      <th>RollNo</th>\n",
       "      <th>Name</th>\n",
       "      <th>ProgramName</th>\n",
       "      <th>Discipline</th>\n",
       "      <th>first</th>\n",
       "      <th>Firstname</th>\n",
       "    </tr>\n",
       "  </thead>\n",
       "  <tbody>\n",
       "    <tr>\n",
       "      <th>0</th>\n",
       "      <td>22110001</td>\n",
       "      <td>Aaditya Roy</td>\n",
       "      <td>B.Tech(JEE)</td>\n",
       "      <td>Materials Science &amp; Engineering</td>\n",
       "      <td>Aaditya</td>\n",
       "      <td>Aaditya</td>\n",
       "    </tr>\n",
       "    <tr>\n",
       "      <th>1</th>\n",
       "      <td>22110002</td>\n",
       "      <td>Aadya Arora</td>\n",
       "      <td>B.Tech-M.Tech(JEE)</td>\n",
       "      <td>Electrical Engineering</td>\n",
       "      <td>Aadya</td>\n",
       "      <td>Aadya</td>\n",
       "    </tr>\n",
       "    <tr>\n",
       "      <th>2</th>\n",
       "      <td>22110003</td>\n",
       "      <td>Aakash Kushwah</td>\n",
       "      <td>B.Tech(JEE)</td>\n",
       "      <td>Civil Engineering</td>\n",
       "      <td>Aakash</td>\n",
       "      <td>Aakash</td>\n",
       "    </tr>\n",
       "    <tr>\n",
       "      <th>3</th>\n",
       "      <td>22110004</td>\n",
       "      <td>Aarav Shah</td>\n",
       "      <td>B.Tech(JEE)</td>\n",
       "      <td>Mechanical Engineering</td>\n",
       "      <td>Aarav</td>\n",
       "      <td>Aarav</td>\n",
       "    </tr>\n",
       "    <tr>\n",
       "      <th>4</th>\n",
       "      <td>22110005</td>\n",
       "      <td>Aashmun Gupta</td>\n",
       "      <td>B.Tech-M.Tech(JEE)</td>\n",
       "      <td>Comp Science &amp; Engg</td>\n",
       "      <td>Aashmun</td>\n",
       "      <td>Aashmun</td>\n",
       "    </tr>\n",
       "  </tbody>\n",
       "</table>\n",
       "</div>"
      ],
      "text/plain": [
       "     RollNo             Name         ProgramName  \\\n",
       "0  22110001     Aaditya Roy          B.Tech(JEE)   \n",
       "1  22110002     Aadya Arora   B.Tech-M.Tech(JEE)   \n",
       "2  22110003  Aakash Kushwah          B.Tech(JEE)   \n",
       "3  22110004       Aarav Shah         B.Tech(JEE)   \n",
       "4  22110005    Aashmun Gupta  B.Tech-M.Tech(JEE)   \n",
       "\n",
       "                        Discipline    first Firstname  \n",
       "0  Materials Science & Engineering  Aaditya   Aaditya  \n",
       "1           Electrical Engineering    Aadya     Aadya  \n",
       "2                Civil Engineering   Aakash    Aakash  \n",
       "3           Mechanical Engineering    Aarav     Aarav  \n",
       "4              Comp Science & Engg  Aashmun   Aashmun  "
      ]
     },
     "execution_count": 33,
     "metadata": {},
     "output_type": "execute_result"
    }
   ],
   "source": [
    "df[\"Firstname\"] = df.Name.str.split(\" \", expand=True)[0]\n",
    "df.head()"
   ]
  },
  {
   "cell_type": "code",
   "execution_count": 40,
   "metadata": {},
   "outputs": [
    {
     "data": {
      "text/plain": [
       "Aditya       5\n",
       "Pranav       4\n",
       "Keshav       3\n",
       "Patel        3\n",
       "Anmol        2\n",
       "Daksh        2\n",
       "Siddharth    2\n",
       "Dewansh      2\n",
       "Atharva      2\n",
       "Rahul        2\n",
       "Manas        2\n",
       "Aryan        2\n",
       "Mantri       2\n",
       "Kethavath    2\n",
       "Mayank       2\n",
       "Vedant       2\n",
       "Patil        2\n",
       "Nikhil       2\n",
       "Akshat       2\n",
       "Vishal       2\n",
       "Abhishek     2\n",
       "Abhinav      2\n",
       "Harsh        2\n",
       "Yash         2\n",
       "Name: Firstname, dtype: int64"
      ]
     },
     "execution_count": 40,
     "metadata": {},
     "output_type": "execute_result"
    }
   ],
   "source": [
    "pd.value_counts(df[\"Firstname\"]).head(24)"
   ]
  },
  {
   "cell_type": "markdown",
   "metadata": {},
   "source": [
    "### How many names start with different characters?!"
   ]
  },
  {
   "cell_type": "code",
   "execution_count": 50,
   "metadata": {},
   "outputs": [
    {
     "data": {
      "text/plain": [
       "A    41\n",
       "S    38\n",
       "P    30\n",
       "M    28\n",
       "K    19\n",
       "R    19\n",
       "D    15\n",
       "V    14\n",
       "N    12\n",
       "C    11\n",
       "H    11\n",
       "T     9\n",
       "J     8\n",
       "B     8\n",
       "G     7\n",
       "L     3\n",
       "O     3\n",
       "Y     3\n",
       "U     2\n",
       "I     2\n",
       "Z     2\n",
       "F     1\n",
       "E     1\n",
       "Name: Firstname, dtype: int64"
      ]
     },
     "execution_count": 50,
     "metadata": {},
     "output_type": "execute_result"
    }
   ],
   "source": [
    "pd.value_counts(df[\"Firstname\"].str[0])"
   ]
  },
  {
   "cell_type": "markdown",
   "metadata": {},
   "source": [
    "### Plotting in decreasing frequency"
   ]
  },
  {
   "cell_type": "code",
   "execution_count": 53,
   "metadata": {},
   "outputs": [
    {
     "data": {
      "image/png": "[encoded data removed]",
      "text/plain": [
       "<Figure size 432x288 with 1 Axes>"
      ]
     },
     "metadata": {
      "image/png": {
       "height": 248,
       "width": 368
      },
      "needs_background": "light"
     },
     "output_type": "display_data"
    }
   ],
   "source": [
    "pd.value_counts(df[\"Firstname\"].str[0]).plot(kind='bar', rot=0);"
   ]
  },
  {
   "cell_type": "markdown",
   "metadata": {},
   "source": [
    "### Plotting in order of alphabet"
   ]
  },
  {
   "cell_type": "code",
   "execution_count": 58,
   "metadata": {},
   "outputs": [
    {
     "data": {
      "image/png": "[encoded data removed]",
      "text/plain": [
       "<Figure size 432x288 with 1 Axes>"
      ]
     },
     "metadata": {
      "image/png": {
       "height": 248,
       "width": 368
      },
      "needs_background": "light"
     },
     "output_type": "display_data"
    }
   ],
   "source": [
    "pd.value_counts(df[\"Firstname\"].str[0]).sort_index().plot(kind='bar', rot=0);"
   ]
  },
  {
   "cell_type": "markdown",
   "metadata": {},
   "source": [
    "### Number of people per discipline"
   ]
  },
  {
   "cell_type": "code",
   "execution_count": 67,
   "metadata": {},
   "outputs": [
    {
     "data": {
      "text/plain": [
       "<AxesSubplot:xlabel='Discipline'>"
      ]
     },
     "execution_count": 67,
     "metadata": {},
     "output_type": "execute_result"
    },
    {
     "data": {
      "image/png": "[encoded data removed]",
      "text/plain": [
       "<Figure size 432x288 with 1 Axes>"
      ]
     },
     "metadata": {
      "image/png": {
       "height": 414,
       "width": 368
      },
      "needs_background": "light"
     },
     "output_type": "display_data"
    }
   ],
   "source": [
    "df.groupby(\"Discipline\")[\"Name\"].count().plot(kind='bar')"
   ]
  },
  {
   "cell_type": "markdown",
   "metadata": {},
   "source": [
    "### Number of people per degree and discipline!"
   ]
  },
  {
   "cell_type": "code",
   "execution_count": 87,
   "metadata": {},
   "outputs": [
    {
     "data": {
      "text/html": [
       "<div>\n",
       "<style scoped>\n",
       "    .dataframe tbody tr th:only-of-type {\n",
       "        vertical-align: middle;\n",
       "    }\n",
       "\n",
       "    .dataframe tbody tr th {\n",
       "        vertical-align: top;\n",
       "    }\n",
       "\n",
       "    .dataframe thead th {\n",
       "        text-align: right;\n",
       "    }\n",
       "</style>\n",
       "<table border=\"1\" class=\"dataframe\">\n",
       "  <thead>\n",
       "    <tr style=\"text-align: right;\">\n",
       "      <th></th>\n",
       "      <th></th>\n",
       "      <th>Name</th>\n",
       "    </tr>\n",
       "    <tr>\n",
       "      <th>Discipline</th>\n",
       "      <th>ProgramName</th>\n",
       "      <th></th>\n",
       "    </tr>\n",
       "  </thead>\n",
       "  <tbody>\n",
       "    <tr>\n",
       "      <th>Chemical Engineering</th>\n",
       "      <th>B.Tech(JEE)</th>\n",
       "      <td>44</td>\n",
       "    </tr>\n",
       "    <tr>\n",
       "      <th>Civil Engineering</th>\n",
       "      <th>B.Tech(JEE)</th>\n",
       "      <td>37</td>\n",
       "    </tr>\n",
       "    <tr>\n",
       "      <th rowspan=\"3\" valign=\"top\">Comp Science &amp; Engg</th>\n",
       "      <th>B.Tech(JEE)</th>\n",
       "      <td>43</td>\n",
       "    </tr>\n",
       "    <tr>\n",
       "      <th>B.Tech(Olympiad)</th>\n",
       "      <td>3</td>\n",
       "    </tr>\n",
       "    <tr>\n",
       "      <th>B.Tech-M.Tech(JEE)</th>\n",
       "      <td>20</td>\n",
       "    </tr>\n",
       "    <tr>\n",
       "      <th rowspan=\"2\" valign=\"top\">Electrical Engineering</th>\n",
       "      <th>B.Tech(JEE)</th>\n",
       "      <td>43</td>\n",
       "    </tr>\n",
       "    <tr>\n",
       "      <th>B.Tech-M.Tech(JEE)</th>\n",
       "      <td>19</td>\n",
       "    </tr>\n",
       "    <tr>\n",
       "      <th>Materials Science &amp; Engineering</th>\n",
       "      <th>B.Tech(JEE)</th>\n",
       "      <td>33</td>\n",
       "    </tr>\n",
       "    <tr>\n",
       "      <th>Mechanical Engineering</th>\n",
       "      <th>B.Tech(JEE)</th>\n",
       "      <td>45</td>\n",
       "    </tr>\n",
       "  </tbody>\n",
       "</table>\n",
       "</div>"
      ],
      "text/plain": [
       "                                                    Name\n",
       "Discipline                      ProgramName             \n",
       "Chemical Engineering            B.Tech(JEE)           44\n",
       "Civil Engineering               B.Tech(JEE)           37\n",
       "Comp Science & Engg             B.Tech(JEE)           43\n",
       "                                B.Tech(Olympiad)       3\n",
       "                                B.Tech-M.Tech(JEE)    20\n",
       "Electrical Engineering          B.Tech(JEE)           43\n",
       "                                B.Tech-M.Tech(JEE)    19\n",
       "Materials Science & Engineering B.Tech(JEE)           33\n",
       "Mechanical Engineering          B.Tech(JEE)           45"
      ]
     },
     "execution_count": 87,
     "metadata": {},
     "output_type": "execute_result"
    }
   ],
   "source": [
    "df.groupby([\"Discipline\", \"ProgramName\"])[[\"Name\"]].count()"
   ]
  },
  {
   "cell_type": "code",
   "execution_count": 86,
   "metadata": {},
   "outputs": [
    {
     "data": {
      "text/plain": [
       "<AxesSubplot:xlabel='None,Discipline'>"
      ]
     },
     "execution_count": 86,
     "metadata": {},
     "output_type": "execute_result"
    },
    {
     "data": {
      "image/png": "[encoded data removed]",
      "text/plain": [
       "<Figure size 432x288 with 1 Axes>"
      ]
     },
     "metadata": {
      "image/png": {
       "height": 458,
       "width": 368
      },
      "needs_background": "light"
     },
     "output_type": "display_data"
    }
   ],
   "source": [
    "df.groupby([\"Discipline\", \"ProgramName\"])[[\"Name\"]].count().unstack(0).T.plot(kind='bar')"
   ]
  }
 ],
 "metadata": {
  "kernelspec": {
   "display_name": "Python 3 (ipykernel)",
   "language": "python",
   "name": "python3"
  },
  "language_info": {
   "codemirror_mode": {
    "name": "ipython",
    "version": 3
   },
   "file_extension": ".py",
   "mimetype": "text/x-python",
   "name": "python",
   "nbconvert_exporter": "python",
   "pygments_lexer": "ipython3",
   "version": "3.9.13"
  },
  "vscode": {
   "interpreter": {
    "hash": "a5a8a649fae9f7dd41e8adc1d2fca9d99b1b7a58cc684de3b9310442441ba4ba"
   }
  }
 },
 "nbformat": 4,
 "nbformat_minor": 2
}
